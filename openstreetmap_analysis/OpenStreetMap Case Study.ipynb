{
 "cells": [
  {
   "cell_type": "markdown",
   "metadata": {},
   "source": [
    "# OpenStreetMap Case Study"
   ]
  },
  {
   "cell_type": "markdown",
   "metadata": {},
   "source": [
    "## Map Area"
   ]
  },
  {
   "cell_type": "markdown",
   "metadata": {},
   "source": [
    "    Manhattan, New York, United States\n",
    "\n",
    "    http://overpass-api.de/api/map?bbox=-74.0133,40.7245,-73.9574,40.7734\n",
    "    \n",
    "    From the link above, I downloaded the data of midtown Manhattan. Since I have worked and lived in the New York City for several years, I choose this area to do this case study."
   ]
  },
  {
   "cell_type": "markdown",
   "metadata": {},
   "source": [
    "## Problems Encountered in the Map\n",
    "\n",
    "After investigating the data in sqlite. I found some problems with the street names and the postcodes. I used pandas to read the csv file to clean the street names and postcodes.I will not touch the original xml here. Because, it takes time to turn the xml fime into csv. If the file is bigger, it will take more time. It's an timely expensive calculation. I will use the csv files to do the next cleaning step. So, I use pandas to read the file into a data frame. Then, I invested the data, corrected the data, and save the data back to a new csv file.\n",
    "\n",
    "- Abbreviated street names('W 35th St')\n",
    "- Postcodes with irregular formats('NY 10001', '10001-2062'\n",
    "       "
   ]
  },
  {
   "cell_type": "markdown",
   "metadata": {
    "collapsed": true
   },
   "source": [
    "### Abbreviated street names\n",
    "\n",
    "I used pandas to iter the rows to correct the street names."
   ]
  },
  {
   "cell_type": "code",
   "execution_count": null,
   "metadata": {
    "collapsed": true
   },
   "outputs": [],
   "source": [
    "#Check the street name type\n",
    "short_street_name = set()\n",
    "for index, row in df_ways_tags.iterrows():\n",
    "    if row['key'] == 'street':\n",
    "        street_value = row['value']\n",
    "        street_type = street_value.split(' ')[-1]\n",
    "        short_street_name.add(street_type)\n",
    "        \n",
    "print(short_street_name)"
   ]
  },
  {
   "cell_type": "code",
   "execution_count": null,
   "metadata": {
    "collapsed": true
   },
   "outputs": [],
   "source": [
    "#Get weird street name\n",
    "weird_street_name = ['D','Americas','633','Bowery','A', 'St', 'B', 'C']\n",
    "street_name = set()\n",
    "for index, row in df_ways_tags.iterrows():\n",
    "    if row['key'] == 'street' and  row['value'].split(' ')[-1] in weird_street_name:\n",
    "        street_name.add(row['value'])\n",
    "print(street_name)"
   ]
  },
  {
   "cell_type": "code",
   "execution_count": null,
   "metadata": {
    "collapsed": true
   },
   "outputs": [],
   "source": [
    "#Correct the street name\n",
    "for index, row in df_ways_tags.iterrows():\n",
    "    if row['key'] == 'street' and row['value'] == 'W 35th St':\n",
    "        print('Made change to the row of index %s' % index)\n",
    "        df_ways_tags.set_value(index, 'value', 'W 35th Street')"
   ]
  },
  {
   "cell_type": "markdown",
   "metadata": {},
   "source": [
    "The street name of 'W 35th St' is changed into 'W 35th Street'."
   ]
  },
  {
   "cell_type": "markdown",
   "metadata": {},
   "source": [
    "### Postcodes with irregular formats"
   ]
  },
  {
   "cell_type": "code",
   "execution_count": null,
   "metadata": {
    "collapsed": true
   },
   "outputs": [],
   "source": [
    "#looking for postcodes with irregular formats\n",
    "import re\n",
    "bad_postcode = []\n",
    "postcode = re.compile(r'^\\d{5}$')\n",
    "for index, row in df_ways_tags.iterrows():\n",
    "    if row['key'] == 'postcode' and row['value']:\n",
    "        m = postcode.match(row['value'])\n",
    "        if not m:\n",
    "            bad_postcode.append((index, row['value']))\n",
    "print(bad_postcode)"
   ]
  },
  {
   "cell_type": "code",
   "execution_count": null,
   "metadata": {
    "collapsed": true
   },
   "outputs": [],
   "source": [
    "\n",
    "import re\n",
    "get_postcode = re.compile(r'(?<!\\d)\\d{5}(?!\\d)')\n",
    "\n",
    "#Correct the postcode\n",
    "for index, postcode in bad_postcode:\n",
    "    if postcode:\n",
    "        m2 = get_postcode.search(postcode)\n",
    "        if m2:\n",
    "            print(\"%s -> %s\" % (postcode, m2.group(0)))\n",
    "            df_ways_tags.set_value(index, 'value', m2.group(0))\n",
    "        else:\n",
    "            print(\"can't fix %s, set as None\" % postcode)\n",
    "            df_ways_tags.set_value(index, 'value', None)"
   ]
  },
  {
   "cell_type": "markdown",
   "metadata": {},
   "source": [
    "The code above correct the postcodes. The changes are listed below:\n",
    "- NY 10001 -> 10001\n",
    "- 10001-2062 -> 10001\n",
    "- 10019-9998 -> 10019\n",
    "- can't fix 83, set as None\n",
    "- NY 10016 -> 10016\n",
    "- New York, NY 10065 -> 10065"
   ]
  },
  {
   "cell_type": "markdown",
   "metadata": {},
   "source": [
    "## Use the command line to get rid of the header of the csv files\n",
    "```\n",
    "tail -n +2 nodes.csv > nodes_no_head.csv\n",
    "tail -n +2 nodes_tags.csv > nodes_tags_no_head.csv\n",
    "tail -n +2 ways.csv > ways_no_head.csv\n",
    "tail -n +2 ways_tags_clean.csv > ways_tags_no_head.csv\n",
    "tail -n +2 ways_nodes.csv > ways_nodes_no_head.csv\n",
    "```"
   ]
  },
  {
   "cell_type": "markdown",
   "metadata": {},
   "source": [
    "## Overview statistics of the dataset \n",
    "\n",
    "### Size of the file\n",
    "\n",
    "- NYMap.xml ................... 59.3 MB\n",
    "- nodes.csv ................... 17.5 MB\n",
    "- nodes_tags.csv .............. 2.7 MB\n",
    "- ways.csv .................... 2.1 MB\n",
    "- ways_tags.csv ............... 6.7 MB\n",
    "- ways_nodes.csv .............. 7.5 MB\n",
    "\n",
    "### Number of unique users\n",
    "```\n",
    "sqlite> SELECT\n",
    "   ...> (SELECT count( DISTINCT uid) FROM nodes)\n",
    "   ...> +\n",
    "   ...> (SELECT count( DISTINCT uid) FROM ways);\n",
    "```\n",
    "1507\n",
    "\n",
    "### Number of nodes\n",
    "```\n",
    "sqlite> SELECT COUNT(DISTINCT id) FROM nodes;\n",
    "```\n",
    "194960\n",
    "\n",
    "### Number of ways\n",
    "```\n",
    "sqlite> SELECT COUNT(DISTINCT id) FROM ways;\n",
    "```\n",
    "34031"
   ]
  },
  {
   "cell_type": "markdown",
   "metadata": {},
   "source": [
    "### Overview information abount ways\n",
    "```\n",
    "sqlite> SELECT key, count(*) FROM ways_tags\n",
    "   ...> GROUP BY key\n",
    "   ...> ORDER BY count(*) DESC\n",
    "   ...> LIMIT 20;\n",
    "```\n",
    "- height,26742\n",
    "- building,18652\n",
    "- bin,18348\n",
    "- street,14122\n",
    "- housenumber,14105\n",
    "- postcode,13927\n",
    "- material,13788\n",
    "- colour,12076\n",
    "- shape,9333\n",
    "- part,8661\n",
    "- name,5033\n",
    "- highway,4916\n",
    "- levels,2814\n",
    "- city,1941\n",
    "- oneway,1928\n",
    "- county,1898\n",
    "- cfcc,1891\n",
    "- name_base,1787\n",
    "- min_height,1761\n",
    "- name_type,1659\n",
    "\n",
    "We can see there're buiding, height, street and other information about ways.\n"
   ]
  },
  {
   "cell_type": "markdown",
   "metadata": {},
   "source": [
    "## Additional findings\n",
    "\n",
    "\n",
    "### Top 5 most popular cuisine\n",
    "```\n",
    "sqlite> SELECT value, count(*) FROM nodes_tags\n",
    "   ...> WHERE key = 'cuisine'\n",
    "   ...> GROUP BY value\n",
    "   ...> ORDER BY count(*) DESC LIMIT 5;\n",
    "```\n",
    "- coffee_shop,104\n",
    "- italian,73\n",
    "- pizza,67\n",
    "- burger,55\n",
    "- american,54\n",
    "\n",
    "The top 5 most popular cuisine are coffee, italian, pizza, burger, american. That's quite true, according to my living experience in New York. There're coffee shops everywhere.\n",
    "\n",
    "### Top 5  most popular shop\n",
    "```\n",
    "sqlite> SELECT value, count(*) FROM nodes_tags\n",
    "   ...> WHERE key = 'shop'\n",
    "   ...> GROUP BY value\n",
    "   ...> ORDER BY count(*) DESC LIMIt 5;\n",
    "```\n",
    "- clothes,202\n",
    "- convenience,73\n",
    "- supermarket,58\n",
    "- bakery,46\n",
    "- shoes,46\n",
    "\n",
    "The top 5 most popular shops are clothes shops, conveniences shops, supermarkets, bakeries and shoes. The number of shops are big. That's New York, a heaven for shopping.\n",
    "\n",
    "### Places to shop\n",
    "```\n",
    "sqlite> WITH sub AS(\n",
    "   ...>    SELECT ways_nodes.id, ways_nodes.node_id, nodes_tags.key AS nodes_key, nodes_tags.value AS nodes_value,\n",
    "   ...>     ways_tags.key AS ways_key, ways_tags.value AS ways_value\n",
    "   ...>    FROM ways_nodes\n",
    "   ...>    LEFT JOIN nodes\n",
    "   ...>    ON ways_nodes.node_id = nodes.id\n",
    "   ...>    LEFT JOIN nodes_tags\n",
    "   ...>    ON nodes.id = nodes_tags.id\n",
    "   ...>    LEFT JOIN ways\n",
    "   ...>    ON ways_nodes.id = ways.id\n",
    "   ...>    LEFT JOIN ways_tags\n",
    "   ...>    ON ways.id = ways_tags.id\n",
    "   ...>    WHERE nodes_tags.key = 'shop')\n",
    "   ...> SELECT sub.ways_value from sub\n",
    "   ...> WHERE sub.ways_key ='street';\n",
    "```\n",
    "\"Extra Place\"\n",
    "\"Broadway\"\n",
    "\"East 37th Street\"\n",
    "\n",
    "No surprisingly, the 'Broadway' and 'East 37th Street are good areas for shopping.\n",
    "\n",
    "### Tourism \n",
    "```\n",
    "sqlite> SELECT value, count(*) FROM nodes_tags\n",
    "   ...> WHERE key = 'tourism'\n",
    "   ...> GROUP BY value\n",
    "   ...> ORDER BY count(*) DESC LIMIT 5;\n",
    "```\n",
    "- hotel,101\n",
    "- attraction,56\n",
    "- artwork,40\n",
    "- museum,21\n",
    "- information,8\n",
    "\n",
    "From the data, we can find out that New York is good place to visit. There're so many hotels, attractions, museums and etc. \n",
    "\n",
    "### User who made the biggiest contribution\n",
    "\n",
    "I am curious who is contributing for the OpenStreet Map website. Here, I would like who submit the most contribution.\n",
    "\n",
    "```\n",
    "sqlite> SELECT uid, count(*) FROM nodes\n",
    "   ...> group by uid\n",
    "   ...> order by count(*) desc\n",
    "   ...> LIMIT 1;\n",
    "```\n",
    "uid :1781294, number of records: 67455\n",
    "\n",
    "The user with the user id of 1781294 made the biggest contribution in editing nodes. He got 67455 records.\n",
    "\n",
    "```\n",
    "sqlite> WITH sub AS(\n",
    "   ...> SELECT nodes_tags.id, nodes_tags.key, nodes_tags.value, nodes.uid FROM nodes_tags\n",
    "   ...> LEFT JOIN nodes\n",
    "   ...> ON nodes_tags.id = nodes.id)\n",
    "   ...> SELECT uid, key, count(*)\n",
    "   ...> FROM sub\n",
    "   ...> WHERE uid = 1781294\n",
    "   ...> GROUP BY key\n",
    "   ...> ORDER BY count(*) DESC\n",
    "   ...> LIMIT 5;\n",
    "```\n",
    "- 1781294,housenumber,5528\n",
    "- 1781294,street,5526\n",
    "- 1781294,postcode,5524\n",
    "- 1781294,name,71\n",
    "- 1781294,amenity,56\n",
    "\n",
    "Here, we can see. He made so many contribution for the housenumber, street and the postcode. The OpenStreet Map website can't be successful without users like this.\n"
   ]
  },
  {
   "cell_type": "markdown",
   "metadata": {},
   "source": [
    "# Conclusion\n",
    "\n",
    "With this project, I investigated the data, cleaned the data, turns the data into different formats. So many tools are used in this project - Python, sqlite, pandas, re and command line. It was a good practice for me. The data shows exactly what New York is. It's a place good to visit, good for shopping and full of good restaurants. It's all because the contributors of the data, so that we can get this information. I will make my contribution later on.\n",
    "\n",
    "### Suggestions for improving the data or its analysis\n",
    "I think OpenSteet can work with Yelp to add more details about restaurants and other places\n",
    "\n",
    "- Benefits:\n",
    "    - OpenStreet Map can get a lot of info directly\n",
    "    - People will use OpenStreet Map more oftern, since it has more information\n",
    "    \n",
    "- Anticipated Problems:\n",
    "    - It will be very complexe when merge the data from two companies\n",
    "    - It will be hard to get data from a big company like Yelp"
   ]
  },
  {
   "cell_type": "code",
   "execution_count": null,
   "metadata": {
    "collapsed": true
   },
   "outputs": [],
   "source": []
  }
 ],
 "metadata": {
  "anaconda-cloud": {},
  "kernelspec": {
   "display_name": "Python [Root]",
   "language": "python",
   "name": "Python [Root]"
  },
  "language_info": {
   "codemirror_mode": {
    "name": "ipython",
    "version": 3
   },
   "file_extension": ".py",
   "mimetype": "text/x-python",
   "name": "python",
   "nbconvert_exporter": "python",
   "pygments_lexer": "ipython3",
   "version": "3.5.2"
  }
 },
 "nbformat": 4,
 "nbformat_minor": 0
}
